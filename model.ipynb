{
 "cells": [
  {
   "cell_type": "code",
   "execution_count": 1,
   "id": "1ea8775e-45c9-47e0-b690-7e9cf7521845",
   "metadata": {},
   "outputs": [],
   "source": [
    "%load_ext autoreload\n",
    "%autoreload 2"
   ]
  },
  {
   "cell_type": "code",
   "execution_count": 2,
   "id": "ef70998b-6fc3-44ab-863e-1b3e0d8a0a89",
   "metadata": {},
   "outputs": [],
   "source": [
    "import matplotlib.pyplot as plt\n",
    "import numpy as np\n",
    "import torch\n",
    "\n",
    "from model import *"
   ]
  },
  {
   "cell_type": "code",
   "execution_count": 3,
   "id": "6ac2d873-b866-4129-9e74-4f650835e6c1",
   "metadata": {},
   "outputs": [],
   "source": [
    "num_mentors = 200\n",
    "num_mentees = 500\n",
    "num_matches = 100\n",
    "num_features = 20\n",
    "\n",
    "survey_features = np.random.rand(num_mentees, num_features)\n",
    "matches = np.random.randint([num_mentors, num_mentees], size=(num_matches, 2))\n",
    "matches_outcome = np.random.rand(num_matches)"
   ]
  },
  {
   "cell_type": "code",
   "execution_count": 4,
   "id": "a75892b7-cc76-42d4-b571-1740cc274589",
   "metadata": {},
   "outputs": [],
   "source": [
    "source = matches\n",
    "target = matches_outcome\n",
    "source = torch.Tensor(source).int()\n",
    "target = torch.Tensor(target).float()"
   ]
  },
  {
   "cell_type": "code",
   "execution_count": 5,
   "id": "5ff9a533-e417-4c49-b824-5e2abbd8b624",
   "metadata": {},
   "outputs": [],
   "source": [
    "model = Model(num_mentors, num_mentees)\n",
    "optimizer = torch.optim.AdamW(model.parameters())\n",
    "criterion = nn.MSELoss()"
   ]
  },
  {
   "cell_type": "code",
   "execution_count": 6,
   "id": "7301eb0b-375a-41b7-ac09-c75775102ad8",
   "metadata": {},
   "outputs": [],
   "source": [
    "epochs = 1000\n",
    "batches = 20\n",
    "batch_size = int(len(source)/batches)"
   ]
  },
  {
   "cell_type": "code",
   "execution_count": 7,
   "id": "ffecb1de-0b3b-4427-8a68-12e4027456a8",
   "metadata": {},
   "outputs": [
    {
     "name": "stdout",
     "output_type": "stream",
     "text": [
      "tensor(0.7789, grad_fn=<MseLossBackward0>)\n",
      "tensor(0.0548, grad_fn=<MseLossBackward0>)\n",
      "tensor(0.0042, grad_fn=<MseLossBackward0>)\n",
      "tensor(0.0007, grad_fn=<MseLossBackward0>)\n",
      "tensor(1.7592e-11, grad_fn=<MseLossBackward0>)\n",
      "tensor(1.7479e-13, grad_fn=<MseLossBackward0>)\n",
      "tensor(1.8059e-11, grad_fn=<MseLossBackward0>)\n",
      "tensor(9.5332e-07, grad_fn=<MseLossBackward0>)\n",
      "tensor(4.5662e-07, grad_fn=<MseLossBackward0>)\n",
      "tensor(6.7521e-07, grad_fn=<MseLossBackward0>)\n"
     ]
    },
    {
     "data": {
      "text/plain": [
       "Model(\n",
       "  (mentors): Embedding(200, 10)\n",
       "  (mentees): Embedding(500, 10)\n",
       ")"
      ]
     },
     "execution_count": 7,
     "metadata": {},
     "output_type": "execute_result"
    }
   ],
   "source": [
    "model.train()\n",
    "for epoch in range(epochs):\n",
    "    for _ in range(batches):\n",
    "        idx = np.random.choice(range(len(source)), batch_size, replace=False)\n",
    "        optimizer.zero_grad()\n",
    "        input_data = torch.t(source[idx])\n",
    "        logits = model(*input_data)\n",
    "        loss = criterion(logits, target[idx])\n",
    "        loss.backward()\n",
    "        optimizer.step()\n",
    "    if epoch % 100 == 0:\n",
    "        print(loss)\n",
    "model.eval();"
   ]
  },
  {
   "cell_type": "code",
   "execution_count": 8,
   "id": "bf78c62c-09ee-4feb-acaa-4f7f5d03725d",
   "metadata": {},
   "outputs": [],
   "source": [
    "input_data = torch.t(source)\n",
    "predicted = model(*input_data).detach().cpu().numpy()\n",
    "actual = target"
   ]
  },
  {
   "cell_type": "code",
   "execution_count": 9,
   "id": "ce85cada-326c-44d2-baa5-abf78f5f8b84",
   "metadata": {},
   "outputs": [
    {
     "data": {
      "image/png": "[encoded data removed]",
      "text/plain": [
       "<Figure size 432x288 with 1 Axes>"
      ]
     },
     "metadata": {
      "needs_background": "light"
     },
     "output_type": "display_data"
    }
   ],
   "source": [
    "plt.scatter(actual, predicted)\n",
    "plt.xlabel('Actual Value')\n",
    "plt.ylabel('Predicted Value');"
   ]
  },
  {
   "cell_type": "code",
   "execution_count": null,
   "id": "94179fa2-ae01-43de-ab07-0592415047fd",
   "metadata": {},
   "outputs": [],
   "source": []
  }
 ],
 "metadata": {
  "kernelspec": {
   "display_name": "Python 3 (ipykernel)",
   "language": "python",
   "name": "python3"
  },
  "language_info": {
   "codemirror_mode": {
    "name": "ipython",
    "version": 3
   },
   "file_extension": ".py",
   "mimetype": "text/x-python",
   "name": "python",
   "nbconvert_exporter": "python",
   "pygments_lexer": "ipython3",
   "version": "3.9.5"
  }
 },
 "nbformat": 4,
 "nbformat_minor": 5
}
