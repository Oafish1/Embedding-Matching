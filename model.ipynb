{
 "cells": [
  {
   "cell_type": "code",
   "execution_count": 1,
   "id": "1ea8775e-45c9-47e0-b690-7e9cf7521845",
   "metadata": {},
   "outputs": [],
   "source": [
    "%load_ext autoreload\n",
    "%autoreload 2"
   ]
  },
  {
   "cell_type": "code",
   "execution_count": 2,
   "id": "ef70998b-6fc3-44ab-863e-1b3e0d8a0a89",
   "metadata": {},
   "outputs": [],
   "source": [
    "import matplotlib.pyplot as plt\n",
    "import numpy as np\n",
    "import torch\n",
    "\n",
    "from model import *"
   ]
  },
  {
   "cell_type": "markdown",
   "id": "fe8a832e-dc20-43e6-b176-8bd47a1de980",
   "metadata": {},
   "source": [
    "# Data Generation"
   ]
  },
  {
   "cell_type": "code",
   "execution_count": 3,
   "id": "6ac2d873-b866-4129-9e74-4f650835e6c1",
   "metadata": {},
   "outputs": [],
   "source": [
    "num_mentors = 200\n",
    "num_mentees = 500\n",
    "num_matches = 1000\n",
    "num_features = 20\n",
    "num_truth = 100\n",
    "\n",
    "mentee_truth = np.random.rand(num_mentees, num_truth)\n",
    "mentor_truth = np.random.rand(num_mentors, num_truth)\n",
    "feature_transform = np.random.rand(num_truth, num_features)\n",
    "\n",
    "mentee_features = mentee_truth @ feature_transform\n",
    "mentor_features = mentor_truth @ feature_transform\n",
    "matches = np.random.randint([num_mentors, num_mentees], size=(num_matches, 2))\n",
    "matches_outcome = np.array([\n",
    "    np.sum(mentor_truth[id1] * mentee_truth[id2])\n",
    "    / (np.linalg.norm(mentor_truth[id1]) * np.linalg.norm(mentee_truth[id2]))\n",
    "    for id1, id2 in matches])"
   ]
  },
  {
   "cell_type": "code",
   "execution_count": 4,
   "id": "a75892b7-cc76-42d4-b571-1740cc274589",
   "metadata": {},
   "outputs": [],
   "source": [
    "matches = torch.Tensor(matches).int()\n",
    "matches_outcome = torch.Tensor(matches_outcome).float()"
   ]
  },
  {
   "cell_type": "markdown",
   "id": "e89e6fd5-bb46-4c72-b43f-20a08d931bd5",
   "metadata": {},
   "source": [
    "# Model Creation"
   ]
  },
  {
   "cell_type": "code",
   "execution_count": 5,
   "id": "5ff9a533-e417-4c49-b824-5e2abbd8b624",
   "metadata": {},
   "outputs": [],
   "source": [
    "gen_model = EmbeddingGenerationModel(num_mentors, num_mentees)\n",
    "gen_optimizer = torch.optim.AdamW(gen_model.parameters())\n",
    "gen_criterion = nn.MSELoss()"
   ]
  },
  {
   "cell_type": "code",
   "execution_count": 6,
   "id": "7301eb0b-375a-41b7-ac09-c75775102ad8",
   "metadata": {},
   "outputs": [],
   "source": [
    "epochs = 1000\n",
    "batches = 20\n",
    "batch_size = int(len(matches)/batches)"
   ]
  },
  {
   "cell_type": "code",
   "execution_count": 7,
   "id": "ffecb1de-0b3b-4427-8a68-12e4027456a8",
   "metadata": {},
   "outputs": [
    {
     "name": "stdout",
     "output_type": "stream",
     "text": [
      "tensor(0.5389, grad_fn=<MseLossBackward0>)\n",
      "tensor(0.2104, grad_fn=<MseLossBackward0>)\n",
      "tensor(0.0767, grad_fn=<MseLossBackward0>)\n",
      "tensor(0.0147, grad_fn=<MseLossBackward0>)\n",
      "tensor(0.0055, grad_fn=<MseLossBackward0>)\n",
      "tensor(0.0020, grad_fn=<MseLossBackward0>)\n",
      "tensor(0.0004, grad_fn=<MseLossBackward0>)\n",
      "tensor(4.9948e-06, grad_fn=<MseLossBackward0>)\n",
      "tensor(4.7703e-06, grad_fn=<MseLossBackward0>)\n",
      "tensor(4.0036e-06, grad_fn=<MseLossBackward0>)\n"
     ]
    }
   ],
   "source": [
    "gen_model.train()\n",
    "for epoch in range(epochs):\n",
    "    for _ in range(batches):\n",
    "        idx = np.random.choice(range(len(matches)), batch_size, replace=False)\n",
    "        gen_optimizer.zero_grad()\n",
    "        input_data = torch.t(matches[idx])\n",
    "        logits = gen_model(*input_data)\n",
    "        loss = gen_criterion(logits, matches_outcome[idx])\n",
    "        loss.backward()\n",
    "        gen_optimizer.step()\n",
    "    if epoch % 100 == 0:\n",
    "        print(loss)\n",
    "gen_model.eval();"
   ]
  },
  {
   "cell_type": "code",
   "execution_count": 8,
   "id": "5f35006d-1da7-4d6d-a7d5-8d34adbd3c70",
   "metadata": {},
   "outputs": [],
   "source": [
    "inf_model = EmbeddingInferenceModel(num_features)\n",
    "inf_optimizer = torch.optim.AdamW(inf_model.parameters())\n",
    "inf_criterion = nn.MSELoss()"
   ]
  },
  {
   "cell_type": "code",
   "execution_count": 9,
   "id": "6fc73d39-4bcd-4ced-abe4-26cb2dd1c255",
   "metadata": {},
   "outputs": [],
   "source": [
    "epochs = 1000\n",
    "batches = 20\n",
    "batch_size = int(num_mentees/batches)"
   ]
  },
  {
   "cell_type": "code",
   "execution_count": 10,
   "id": "0a0883e6-d13b-4abd-8099-6320f36c0d80",
   "metadata": {},
   "outputs": [
    {
     "name": "stdout",
     "output_type": "stream",
     "text": [
      "tensor(1.4341, grad_fn=<MseLossBackward0>)\n",
      "tensor(0.3797, grad_fn=<MseLossBackward0>)\n",
      "tensor(0.3205, grad_fn=<MseLossBackward0>)\n",
      "tensor(0.3958, grad_fn=<MseLossBackward0>)\n",
      "tensor(0.2381, grad_fn=<MseLossBackward0>)\n",
      "tensor(0.3696, grad_fn=<MseLossBackward0>)\n",
      "tensor(0.2427, grad_fn=<MseLossBackward0>)\n",
      "tensor(0.3410, grad_fn=<MseLossBackward0>)\n",
      "tensor(0.3574, grad_fn=<MseLossBackward0>)\n",
      "tensor(0.2769, grad_fn=<MseLossBackward0>)\n"
     ]
    }
   ],
   "source": [
    "inf_model.train()\n",
    "for epoch in range(epochs):\n",
    "    for _ in range(batches):\n",
    "        idx = np.random.choice(range(num_mentees), batch_size, replace=False)\n",
    "        inf_optimizer.zero_grad()\n",
    "        input_data = torch.Tensor(mentee_features[idx])\n",
    "        logits = inf_model(input_data)\n",
    "        true = gen_model.mentees(torch.Tensor(idx).int()).detach()\n",
    "        loss = inf_criterion(logits, true)\n",
    "        loss.backward()\n",
    "        inf_optimizer.step()\n",
    "    if epoch % 100 == 0:\n",
    "        print(loss)\n",
    "inf_model.eval();"
   ]
  },
  {
   "cell_type": "markdown",
   "id": "7d0980cd-54f3-490e-ab91-9edc31785ec2",
   "metadata": {},
   "source": [
    "# Evaluation"
   ]
  },
  {
   "cell_type": "code",
   "execution_count": 11,
   "id": "bf78c62c-09ee-4feb-acaa-4f7f5d03725d",
   "metadata": {},
   "outputs": [],
   "source": [
    "input_data = torch.t(matches)\n",
    "predicted = gen_model(*input_data).detach().cpu().numpy()\n",
    "actual = matches_outcome"
   ]
  },
  {
   "cell_type": "code",
   "execution_count": 12,
   "id": "ce85cada-326c-44d2-baa5-abf78f5f8b84",
   "metadata": {},
   "outputs": [
    {
     "data": {
      "image/png": "[encoded data removed]",
      "text/plain": [
       "<Figure size 432x288 with 1 Axes>"
      ]
     },
     "metadata": {
      "needs_background": "light"
     },
     "output_type": "display_data"
    }
   ],
   "source": [
    "plt.scatter(actual, predicted)\n",
    "plt.xlabel('Actual Value')\n",
    "plt.ylabel('Predicted Value');"
   ]
  },
  {
   "cell_type": "code",
   "execution_count": 13,
   "id": "94179fa2-ae01-43de-ab07-0592415047fd",
   "metadata": {},
   "outputs": [],
   "source": [
    "feature = 0\n",
    "input_data = torch.Tensor(mentee_features)\n",
    "predicted = inf_model(input_data).detach().cpu().numpy()\n",
    "actual = gen_model.mentees(torch.Tensor(range(num_mentees)).int()).detach().cpu().numpy()\n",
    "predicted, actual = predicted[:, feature], actual[:, feature]"
   ]
  },
  {
   "cell_type": "code",
   "execution_count": 14,
   "id": "4c2c529b-ff56-4f58-9927-034bc2a1e323",
   "metadata": {},
   "outputs": [
    {
     "data": {
      "image/png": "[encoded data removed]",
      "text/plain": [
       "<Figure size 432x288 with 1 Axes>"
      ]
     },
     "metadata": {
      "needs_background": "light"
     },
     "output_type": "display_data"
    }
   ],
   "source": [
    "plt.scatter(actual, predicted)\n",
    "plt.xlabel('Actual Value')\n",
    "plt.ylabel('Predicted Value');"
   ]
  }
 ],
 "metadata": {
  "kernelspec": {
   "display_name": "Python 3 (ipykernel)",
   "language": "python",
   "name": "python3"
  },
  "language_info": {
   "codemirror_mode": {
    "name": "ipython",
    "version": 3
   },
   "file_extension": ".py",
   "mimetype": "text/x-python",
   "name": "python",
   "nbconvert_exporter": "python",
   "pygments_lexer": "ipython3",
   "version": "3.9.5"
  }
 },
 "nbformat": 4,
 "nbformat_minor": 5
}
